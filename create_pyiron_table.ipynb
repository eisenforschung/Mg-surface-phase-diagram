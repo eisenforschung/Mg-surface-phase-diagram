{
 "cells": [
  {
   "cell_type": "code",
   "execution_count": 14,
   "id": "f1ff70db-e6b4-4378-ba1e-7c9cb0088325",
   "metadata": {},
   "outputs": [],
   "source": [
    "import numpy as np\n",
    "%matplotlib inline\n",
    "import matplotlib.pylab as plt\n",
    "from pyiron import ase_to_pyiron,pyiron_to_ase\n",
    "from pyiron import Project\n",
    "from pyiron.vasp.structure import read_atoms,write_poscar"
   ]
  },
  {
   "cell_type": "code",
   "execution_count": 15,
   "id": "f9c66ab9-6b2e-482e-9d6b-3c218144cf57",
   "metadata": {},
   "outputs": [],
   "source": [
    "pr = Project('.')"
   ]
  },
  {
   "cell_type": "code",
   "execution_count": null,
   "id": "bc0ba189-efe2-4906-823a-9bf166e44959",
   "metadata": {},
   "outputs": [],
   "source": [
    "pr.unpack('raw_data', csv_file_name='export.csv')"
   ]
  },
  {
   "cell_type": "markdown",
   "id": "d11ef8bc-715f-461a-8dec-5a29c50a28c4",
   "metadata": {},
   "source": [
    "# Mg md"
   ]
  },
  {
   "cell_type": "code",
   "execution_count": 7,
   "id": "35fe21bb-0e7f-4696-bb78-03930b11d1d4",
   "metadata": {},
   "outputs": [],
   "source": [
    "table = pr.create.table(job_name = 'md_table_Ca')"
   ]
  },
  {
   "cell_type": "code",
   "execution_count": 8,
   "id": "f116dfe0-35da-4dcb-8fcd-33bff8b27c6c",
   "metadata": {},
   "outputs": [],
   "source": [
    "# MD jobs for the Mg-Ca diagram\n",
    "job_name_list = ['Mg_water5','Mg_1Ca_water_symm4','Mg_1_3Ca_water6']\n",
    "\n",
    "# Filtering based on the job\n",
    "def job_filter_function(job):\n",
    "    # returns a boolean value if \"layer\" is not in it's job name\n",
    "    return (job.job_name in job_name_list)\n",
    "\n",
    "def get_energy(job):\n",
    "    return job['output/generic/energy_tot']\n",
    "\n",
    "def get_ave_energy(job):\n",
    "    return np.mean(job['output/generic/energy_tot'])\n",
    "\n",
    "def get_std_energy(job):\n",
    "    return np.std(job['output/generic/energy_tot'])\n",
    "\n",
    "def get_surface_area(job):\n",
    "    cell = job['input/structure/cell/cell']\n",
    "    return np.linalg.norm(np.cross(cell[0,:],cell[1,:]))"
   ]
  },
  {
   "cell_type": "code",
   "execution_count": 9,
   "id": "3cb5c530-3624-47bb-83eb-e2ebd06e9d80",
   "metadata": {},
   "outputs": [
    {
     "name": "stdout",
     "output_type": "stream",
     "text": [
      "The job md_table_Ca was saved and received the ID: 21836148\n"
     ]
    },
    {
     "data": {
      "application/vnd.jupyter.widget-view+json": {
       "model_id": "2d861b4298614eaea713e4e5f32b7f28",
       "version_major": 2,
       "version_minor": 0
      },
      "text/plain": [
       "Loading and filtering jobs:   0%|          | 0/52 [00:00<?, ?it/s]"
      ]
     },
     "metadata": {},
     "output_type": "display_data"
    },
    {
     "data": {
      "application/vnd.jupyter.widget-view+json": {
       "model_id": "9017be25b4534bb0ae59cbd277049e8e",
       "version_major": 2,
       "version_minor": 0
      },
      "text/plain": [
       "  0%|          | 0/3 [00:00<?, ?it/s]"
      ]
     },
     "metadata": {},
     "output_type": "display_data"
    },
    {
     "name": "stderr",
     "output_type": "stream",
     "text": [
      "/u/jyang/Program/pyiron_base/pyiron_base/jobs/datamining.py:657: PerformanceWarning: \n",
      "your performance may suffer as PyTables will pickle object types that it cannot\n",
      "map directly to c-types [inferred_type->mixed,key->block2_values] [items->Index(['job_name', 'energy'], dtype='object')]\n",
      "\n",
      "  self.pyiron_table._df.to_hdf(\n"
     ]
    }
   ],
   "source": [
    "table.add['energy'] = get_energy\n",
    "table.add['ave_energy'] = get_ave_energy\n",
    "table.add['std_energy'] = get_std_energy\n",
    "table.add['surface_area'] = get_surface_area\n",
    "table.add.get_job_id\n",
    "table.add.get_job_name\n",
    "table.add.get_elements\n",
    "table.filter_function = job_filter_function\n",
    "table.run(delete_existing_job=True)"
   ]
  },
  {
   "cell_type": "code",
   "execution_count": 10,
   "id": "33b81544-8c49-4f47-a4fb-45ad1a5b5a71",
   "metadata": {},
   "outputs": [],
   "source": [
    "df = table.get_dataframe()"
   ]
  },
  {
   "cell_type": "code",
   "execution_count": 11,
   "id": "4581cf7d-b227-4a91-bda6-cb0de69734f5",
   "metadata": {},
   "outputs": [],
   "source": [
    "df = df.fillna(0)"
   ]
  },
  {
   "cell_type": "code",
   "execution_count": 12,
   "id": "502b13f3-3710-4ee1-8cd7-dfc756fd8301",
   "metadata": {},
   "outputs": [],
   "source": [
    "df.to_csv('md_Mg_Ca.csv')"
   ]
  },
  {
   "cell_type": "code",
   "execution_count": null,
   "id": "1d1b0285-5f5d-42b3-9f4a-b7f785aa71c4",
   "metadata": {},
   "outputs": [],
   "source": []
  },
  {
   "cell_type": "markdown",
   "id": "c0c61a0f-39ce-469c-946c-db813bf025b4",
   "metadata": {},
   "source": [
    "# Mg Ca static"
   ]
  },
  {
   "cell_type": "code",
   "execution_count": 129,
   "id": "0c8b796f-39d3-47e6-a4e2-be2160333c2c",
   "metadata": {},
   "outputs": [],
   "source": [
    "job_vacuum = ['Mg_surface_relax','Mg_surface_1Ca_relax','Mg_surface_1_3Ca_relax']\n",
    "job_default_fix = ['Mg_surface_vacuum_implicit','Mg_surface_1Ca_vacuum_implicit','Mg_surface_1_3Ca_vacuum_implicit']\n",
    "job_default_relax = ['Mg_surface_implicit_relax', 'Mg_1Ca_implicit_symm_relax','Mg_surface_1_3Ca_implicit_relax']\n",
    "job_nc_fix = ['Mg_surface_vacuum_implicit_nck0p0009','Mg_surface_1Ca_vacuum_implicit_nck0p0009','Mg_surface_1_3Ca_vacuum_implicit_nck0p0009']\n",
    "job_nc_relax = ['Mg_surface_vacuum_implicit_nck0p001_relax','Mg_surface_1Ca_vacuum_implicit_nck0p001_relax','Mg_surface_1_3Ca_vacuum_implicit_nck0p001_relax']\n",
    "\n",
    "job_static = job_vacuum+job_default_fix+job_default_relax+job_nc_fix+job_nc_relax"
   ]
  },
  {
   "cell_type": "code",
   "execution_count": 130,
   "id": "f5049be2-d1e8-40dd-9532-8a996c649259",
   "metadata": {},
   "outputs": [
    {
     "name": "stdout",
     "output_type": "stream",
     "text": [
      "The job static_table_Ca was saved and received the ID: 21835458\n"
     ]
    },
    {
     "data": {
      "application/vnd.jupyter.widget-view+json": {
       "model_id": "0c4c83dc6d934bc3b574efff8efaa52d",
       "version_major": 2,
       "version_minor": 0
      },
      "text/plain": [
       "Loading and filtering jobs:   0%|          | 0/51 [00:00<?, ?it/s]"
      ]
     },
     "metadata": {},
     "output_type": "display_data"
    },
    {
     "data": {
      "application/vnd.jupyter.widget-view+json": {
       "model_id": "56e3d73edd574edb9acb832f8f734be3",
       "version_major": 2,
       "version_minor": 0
      },
      "text/plain": [
       "  0%|          | 0/15 [00:00<?, ?it/s]"
      ]
     },
     "metadata": {},
     "output_type": "display_data"
    },
    {
     "name": "stderr",
     "output_type": "stream",
     "text": [
      "/cmmc/ptmp/pyironhb/mambaforge/envs/pyiron_latest/lib/python3.10/site-packages/pyiron_base/jobs/datamining.py:651: FutureWarning: Starting with pandas version 3.0 all arguments of to_hdf except for the argument 'path_or_buf' will be keyword-only.\n",
      "  self.pyiron_table._df.to_hdf(\n"
     ]
    }
   ],
   "source": [
    "table = pr.create.table(job_name = 'static_table_Ca')\n",
    "\n",
    "def job_filter_function(job):\n",
    "    # returns a boolean value if \"layer\" is not in it's job name\n",
    "    return (job.job_name in job_static)\n",
    "\n",
    "def get_surface_area(job):\n",
    "    cell = job['input/structure/cell/cell']\n",
    "    return np.linalg.norm(np.cross(cell[0,:],cell[1,:]))\n",
    "\n",
    "table.add.get_energy_tot\n",
    "table.add.get_job_id\n",
    "table.add.get_job_name\n",
    "table.add.get_elements\n",
    "table.add['surface_area'] = get_surface_area\n",
    "table.filter_function = job_filter_function\n",
    "table.run(delete_existing_job=True)"
   ]
  },
  {
   "cell_type": "code",
   "execution_count": 131,
   "id": "1f7cf55c-d81c-412e-89a1-54878a373444",
   "metadata": {},
   "outputs": [],
   "source": [
    "df = table.get_dataframe()"
   ]
  },
  {
   "cell_type": "code",
   "execution_count": 133,
   "id": "76445c43-b39c-4cee-997f-e83468949176",
   "metadata": {},
   "outputs": [],
   "source": [
    "df = df.fillna(0)"
   ]
  },
  {
   "cell_type": "code",
   "execution_count": 134,
   "id": "43d4df95-5cb1-4499-9b98-02f8e3b9aa2e",
   "metadata": {},
   "outputs": [],
   "source": [
    "df.to_csv('static_Mg_Ca.csv')"
   ]
  },
  {
   "cell_type": "markdown",
   "id": "1743d3bf-9050-4470-8be0-69251a0a06da",
   "metadata": {},
   "source": [
    "# H MD"
   ]
  },
  {
   "cell_type": "code",
   "execution_count": 135,
   "id": "f6ffaafa-ef49-4ec6-a5b2-c1d089373082",
   "metadata": {},
   "outputs": [],
   "source": [
    "table = pr.create.table(job_name = 'md_table_H')"
   ]
  },
  {
   "cell_type": "code",
   "execution_count": 136,
   "id": "cbe45709-a357-428c-b089-3d9dc0a28cb3",
   "metadata": {},
   "outputs": [],
   "source": [
    "# MD jobs for the Mg-Ca diagram\n",
    "job_name_list = ['Mg_water_1_3_Hsymm6', 'Mg_water_1_6_Hsymm5', 'Mg_water_1_3_OHsymm4', 'Mg_water_1_6_OHsymm4', 'Mg_water5']\n",
    "#job_name_list = ['Mg_water5','Mg_water_1_6_OHsymm4','Mg_water_1_3_OHsymm4'\n",
    "#                 ,'Mg_water_1_6_Hsymm5','Mg_water_1_3_Hsymm6']\n",
    "# Filtering based on the job\n",
    "def job_filter_function(job):\n",
    "    # returns a boolean value if \"layer\" is not in it's job name\n",
    "    return (job.job_name in job_name_list)\n",
    "\n",
    "def get_energy(job):\n",
    "    return job['output/generic/energy_tot']\n",
    "\n",
    "def get_ave_energy(job):\n",
    "    return np.mean(job['output/generic/energy_tot'])\n",
    "\n",
    "def get_std_energy(job):\n",
    "    return np.std(job['output/generic/energy_tot'])\n",
    "\n",
    "def get_surface_area(job):\n",
    "    cell = job['input/structure/cell/cell']\n",
    "    return np.linalg.norm(np.cross(cell[0,:],cell[1,:]))\n"
   ]
  },
  {
   "cell_type": "code",
   "execution_count": 137,
   "id": "fe76e513-a191-47df-931e-e429889bf383",
   "metadata": {},
   "outputs": [
    {
     "name": "stdout",
     "output_type": "stream",
     "text": [
      "The job md_table_H was saved and received the ID: 21835643\n"
     ]
    },
    {
     "data": {
      "application/vnd.jupyter.widget-view+json": {
       "model_id": "ee521f594bb64faebd8fb9da93b4ca87",
       "version_major": 2,
       "version_minor": 0
      },
      "text/plain": [
       "Loading and filtering jobs:   0%|          | 0/51 [00:00<?, ?it/s]"
      ]
     },
     "metadata": {},
     "output_type": "display_data"
    },
    {
     "data": {
      "application/vnd.jupyter.widget-view+json": {
       "model_id": "a017d2f9ec6e41b88e4e8b84c6601ad1",
       "version_major": 2,
       "version_minor": 0
      },
      "text/plain": [
       "  0%|          | 0/5 [00:00<?, ?it/s]"
      ]
     },
     "metadata": {},
     "output_type": "display_data"
    },
    {
     "name": "stderr",
     "output_type": "stream",
     "text": [
      "/cmmc/ptmp/pyironhb/mambaforge/envs/pyiron_latest/lib/python3.10/site-packages/pyiron_base/jobs/datamining.py:651: FutureWarning: Starting with pandas version 3.0 all arguments of to_hdf except for the argument 'path_or_buf' will be keyword-only.\n",
      "  self.pyiron_table._df.to_hdf(\n",
      "/cmmc/ptmp/pyironhb/mambaforge/envs/pyiron_latest/lib/python3.10/site-packages/pyiron_base/jobs/datamining.py:651: PerformanceWarning: \n",
      "your performance may suffer as PyTables will pickle object types that it cannot\n",
      "map directly to c-types [inferred_type->mixed,key->block1_values] [items->Index(['job_name', 'energy'], dtype='object')]\n",
      "\n",
      "  self.pyiron_table._df.to_hdf(\n"
     ]
    }
   ],
   "source": [
    "table.add['energy'] = get_energy\n",
    "table.add['ave_energy'] = get_ave_energy\n",
    "table.add['std_energy'] = get_std_energy\n",
    "table.add['surface_area'] = get_surface_area\n",
    "table.add.get_job_id\n",
    "table.add.get_job_name\n",
    "table.add.get_elements\n",
    "table.filter_function = job_filter_function\n",
    "table.run(delete_existing_job=True)"
   ]
  },
  {
   "cell_type": "code",
   "execution_count": 138,
   "id": "bc481bf4-2ec9-473f-becf-22cbff96f18f",
   "metadata": {},
   "outputs": [],
   "source": [
    "df = table.get_dataframe()"
   ]
  },
  {
   "cell_type": "code",
   "execution_count": 139,
   "id": "479f586a-3e0e-42fb-8f26-d22ba886caf5",
   "metadata": {},
   "outputs": [],
   "source": [
    "df.to_csv('md_Mg_H_OH.csv')"
   ]
  },
  {
   "cell_type": "markdown",
   "id": "fb7c56d3-e2bc-47fc-86a4-69cb55f8e77f",
   "metadata": {},
   "source": [
    "# H static"
   ]
  },
  {
   "cell_type": "code",
   "execution_count": 124,
   "id": "7778164a-4769-485c-a428-d32f5d794e18",
   "metadata": {},
   "outputs": [],
   "source": [
    "job_vacuum = ['Mg_surface_relax','Mg_1_6OH_vacuum',\n",
    "                 'Mg_1_3OH_vacuum',\n",
    "                    'Mg_1_6H_vacuum',\n",
    "                 'Mg_1_3H_vacuum']\n",
    "job_default_fix = ['Mg_surface_vacuum_implicit','Mg_1_6OHimplicit_fixed',\n",
    "                 'Mg_1_3OHimplicit_fixed',\n",
    "                    'Mg_1_6Himplicit_fixed',\n",
    "                 'Mg_1_3Himplicit_fixed']\n",
    "job_default_relax = ['Mg_surface_implicit_relax','Mg_1_6OHimplicit_relaxed','Mg_1_3OHimplicit_relaxed',\n",
    "                    'Mg_1_6Himplicit_relaxed','Mg_1_3Himplicit_relaxed']\n",
    "job_nc_fix = ['Mg_surface_vacuum_implicit_nck0p0009', 'Mg_1_6OHimplicit_fixed_nck0p001',\n",
    "                 'Mg_1_3OHimplicit_fixed_nck0p001',\n",
    "                    'Mg_1_6Himplicit_fixed_nck0p001',\n",
    "                 'Mg_1_3Himplicit_fixed_nck0p001']\n",
    "job_nc_relax = ['Mg_surface_vacuum_implicit_nck0p001_relax', 'Mg_1_6OHimplicit_fixed_nck0p001_relax',\n",
    "                 'Mg_1_3OHimplicit_fixed_nck0p001_relax',\n",
    "                    'Mg_1_6Himplicit_fixed_nck0p001_relax',\n",
    "                 'Mg_1_3Himplicit_fixed_nck0p001_relax']\n",
    "job_static = job_vacuum+job_default_fix+job_default_relax+job_nc_fix+job_nc_relax"
   ]
  },
  {
   "cell_type": "code",
   "execution_count": 125,
   "id": "45bca65d-1813-41a8-9b18-e36fa4731388",
   "metadata": {},
   "outputs": [
    {
     "name": "stdout",
     "output_type": "stream",
     "text": [
      "The job static_table_H was saved and received the ID: 21835450\n"
     ]
    },
    {
     "data": {
      "application/vnd.jupyter.widget-view+json": {
       "model_id": "f9f9f900f527450795ebdc1bcd0ad6a4",
       "version_major": 2,
       "version_minor": 0
      },
      "text/plain": [
       "Loading and filtering jobs:   0%|          | 0/51 [00:00<?, ?it/s]"
      ]
     },
     "metadata": {},
     "output_type": "display_data"
    },
    {
     "data": {
      "application/vnd.jupyter.widget-view+json": {
       "model_id": "5cc9e6fd17234f709f9bc1a38c395f19",
       "version_major": 2,
       "version_minor": 0
      },
      "text/plain": [
       "  0%|          | 0/25 [00:00<?, ?it/s]"
      ]
     },
     "metadata": {},
     "output_type": "display_data"
    },
    {
     "name": "stderr",
     "output_type": "stream",
     "text": [
      "/cmmc/ptmp/pyironhb/mambaforge/envs/pyiron_latest/lib/python3.10/site-packages/pyiron_base/jobs/datamining.py:651: FutureWarning: Starting with pandas version 3.0 all arguments of to_hdf except for the argument 'path_or_buf' will be keyword-only.\n",
      "  self.pyiron_table._df.to_hdf(\n"
     ]
    }
   ],
   "source": [
    "table = pr.create.table(job_name = 'static_table_H')\n",
    "\n",
    "def job_filter_function(job):\n",
    "    # returns a boolean value if \"layer\" is not in it's job name\n",
    "    return (job.job_name in job_static)\n",
    "\n",
    "def get_surface_area(job):\n",
    "    cell = job['input/structure/cell/cell']\n",
    "    return np.linalg.norm(np.cross(cell[0,:],cell[1,:]))\n",
    "\n",
    "table.add.get_energy_tot\n",
    "table.add.get_job_id\n",
    "table.add.get_job_name\n",
    "table.add.get_elements\n",
    "table.add['surface_area'] = get_surface_area\n",
    "table.filter_function = job_filter_function\n",
    "table.run(delete_existing_job=True)"
   ]
  },
  {
   "cell_type": "code",
   "execution_count": 126,
   "id": "5ee50b2c-c87a-4229-8645-0b21914336e4",
   "metadata": {},
   "outputs": [],
   "source": [
    "df = table.get_dataframe()"
   ]
  },
  {
   "cell_type": "code",
   "execution_count": 127,
   "id": "29083fc9-6263-4c61-95c5-35ee4e73afc7",
   "metadata": {},
   "outputs": [],
   "source": [
    "df = df.fillna(0)"
   ]
  },
  {
   "cell_type": "code",
   "execution_count": 128,
   "id": "25477be5-b306-4f6c-9479-e4fa7c7c89d4",
   "metadata": {},
   "outputs": [],
   "source": [
    "df.to_csv('static_Mg_H_OH.csv')"
   ]
  },
  {
   "cell_type": "code",
   "execution_count": null,
   "id": "8979fe46-bf2e-4959-8fc2-a00e0f497943",
   "metadata": {},
   "outputs": [],
   "source": []
  }
 ],
 "metadata": {
  "kernelspec": {
   "display_name": "pyiron/latest (Python3.10)",
   "language": "python",
   "name": "python3"
  },
  "language_info": {
   "codemirror_mode": {
    "name": "ipython",
    "version": 3
   },
   "file_extension": ".py",
   "mimetype": "text/x-python",
   "name": "python",
   "nbconvert_exporter": "python",
   "pygments_lexer": "ipython3",
   "version": "3.10.14"
  }
 },
 "nbformat": 4,
 "nbformat_minor": 5
}
